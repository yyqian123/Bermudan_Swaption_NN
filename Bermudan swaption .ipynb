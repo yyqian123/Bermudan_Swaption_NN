{
 "cells": [
  {
   "cell_type": "markdown",
   "metadata": {},
   "source": [
    "##  Step 1 Generate sim_rates"
   ]
  },
  {
   "cell_type": "code",
   "execution_count": 193,
   "metadata": {},
   "outputs": [],
   "source": [
    "import pandas as pd\n",
    "import numpy as np\n",
    "import os"
   ]
  },
  {
   "cell_type": "code",
   "execution_count": 194,
   "metadata": {},
   "outputs": [],
   "source": [
    "\"\"\"\n",
    "using swap rate to construct DFT curve\n",
    "\"\"\"\n",
    "corr=pd.read_excel(\"fwd_rates_correl.xlsx\", sheet_name =\"change_corr\").to_numpy()[1:,1:]\n",
    "curve = pd.read_excel(\"values of swaptions_and_bermudan_v4.xlsx\", sheet_name =\"cms\")"
   ]
  },
  {
   "cell_type": "code",
   "execution_count": 195,
   "metadata": {},
   "outputs": [],
   "source": [
    "from scipy import interpolate, stats, optimize\n",
    "#fit cubic spline to curve to get other maturities\n",
    "maturities = np.arange(1, 21)*0.5\n",
    "cs = interpolate.CubicSpline(curve[\"tenor\"], curve[\"swap rate\"])\n",
    "cms = np.array(pd.DataFrame({\"maturity\" : maturities,\"rate\" : cs(maturities)/100}))\n",
    "par=cms[:,1]\n",
    "\n",
    "# boostrap discount prices from par rate\n",
    "DFT=np.zeros(cms.shape[0])\n",
    "DFT[0]=1/(1+par[0]/2)\n",
    "for i in range(1,20):\n",
    "    DFT[i]=(1-par[i]/2 * np.sum(DFT))/(par[i]/2+1) \n",
    "\n",
    "\n",
    "#decompose historical correlation matrix\n",
    "eig_vec = np.linalg.eig(corr)[1]\n",
    "eig_inv = np.linalg.inv(eig_vec)"
   ]
  },
  {
   "cell_type": "code",
   "execution_count": 196,
   "metadata": {},
   "outputs": [],
   "source": [
    "def correlation_from_covariance(covariance):\n",
    "    v = np.sqrt(np.diag(covariance))\n",
    "    outer_v = np.outer(v, v)\n",
    "    correlation = covariance / outer_v\n",
    "    correlation[covariance == 0] = 0\n",
    "    return correlation\n"
   ]
  },
  {
   "cell_type": "code",
   "execution_count": 197,
   "metadata": {},
   "outputs": [],
   "source": [
    "def smm(initial_curve, corr, paths, factors, eig):\n",
    "    \"\"\"\n",
    "    Args:\n",
    "     initial_curve :the initial discount curve bootstrapped from cms\n",
    "     corr : historical correlation matrix (19x19) (1 less than # of semi-annual discount bonds available)\n",
    "     paths : number of simulated rate paths\n",
    "     factors : number of factors affecting the correlation\n",
    "     eig : new eigen values that generates the correlation\n",
    "    \"\"\"\n",
    "    N = 20\n",
    "    step = 21\n",
    "    paths = int(paths)\n",
    "    rates = np.zeros((N, step, paths))\n",
    "    rates[:,0,:] = initial_curve.reshape(N, 1) #initial discount vector\n",
    "    np.random.seed(345)\n",
    "    \n",
    "    for i in range(1,step):\n",
    "        row = i-1 #matured row (as next time step shortest dated bond matures)\n",
    "        rates[row,i,:] = 1 #worth par when they mature\n",
    "        \n",
    "        #find r\n",
    "        #shortest dated rate\n",
    "        r = (rates[row,i-1,:]**(-1) - 1)*2\n",
    "        \n",
    "        #new eigen values:\n",
    "        new_eig = np.zeros((N-1,N-1))\n",
    "        factors = factors #number of factors\n",
    "        new_eig_val = np.concatenate((eig, np.repeat(1e-10, N-1-factors)), axis = 0) #to make sure it's positive definite\n",
    "        new_eig[np.diag_indices(N-1)] = new_eig_val\n",
    "        \n",
    "        #create new covariance matrix\n",
    "        \n",
    "        cov_mat = np.dot(np.dot(eig_vec, new_eig), eig_inv)        \n",
    "        #cholesky decomposition for correlated variables\n",
    "        # cor_mat=correlation_from_covariance(cov_mat)\n",
    "        # chol=np.linalg.cholesky(cor_mat)\n",
    "        \n",
    "        # #cholesky decomposition for correlated variables\n",
    "        chol = np.linalg.cholesky(cov_mat) #lower triangular L\n",
    "        \n",
    "        #vol of forward curves\n",
    "        vol = np.sqrt(np.diag(cov_mat))\n",
    "#        vol=vol_test/100\n",
    "        #Time-Homogeneous (TH)\n",
    "        vol = vol[0:(N-i)].reshape(-1,1) #first 19, 18, 17, ...\n",
    "        \n",
    "        #simulate correlated brownian paths\n",
    "        #w/ anti thetic variates\n",
    "        z = np.random.normal(size = (int(np.ceil(paths/2)), (N-1) ))\n",
    "        z = np.r_[z, -z][0:paths,:] #anti-thetic\n",
    "        \n",
    "        #grab relevant dwt (cut down last vectors)\n",
    "        dwt = chol @ z.T #result: dwt = (N x simulated paths)\n",
    "        dwt = dwt[0:(N-i),:] #first 19, 18, 17, ...\n",
    "        \n",
    "        #calculate forward rates from previous vector of discount rates:\n",
    "        forward = 2 * ((rates[row:-1, i-1 ,:] / rates[(row+1):, i-1 ,:]) - 1)\n",
    "        \n",
    "        #get jacobian matrix\n",
    "        di = np.diag_indices(N-i)\n",
    "        jacobian = np.zeros((N-i, N-i, paths))\n",
    "        #fill main diagonal\n",
    "        diags = (rates[row:-1, i-1 ,:]) / -(rates[(row+1):, i-1 ,:])**2\n",
    "        jacobian[di] = diags\n",
    "        \n",
    "        #fill offset diagonal\n",
    "        di = (di[0][1:], di[1][:-1])\n",
    "        diags = 1/(rates[(row + 2):, i-1 ,:]) #row+2\n",
    "        jacobian[di] = diags\n",
    "        \n",
    "        #inverse\n",
    "        inv_jacobian = np.linalg.inv(jacobian.T).T\n",
    "        \n",
    "        # =============================================================================\n",
    "        # evolve\n",
    "        # dD = rD(i-1) * (1/2) + J**-1 * F * vol * dwt * sqrt(0.5)\n",
    "        # =============================================================================  \n",
    "        #diffusion\n",
    "        diffusion = np.einsum('ijk,jk->ik', inv_jacobian, forward*vol)\n",
    "        # check \n",
    "        all(np.allclose( diffusion[:, j].reshape(-1,1) , inv_jacobian[:,:,j] @ (forward[:,j].reshape(-1,1) * vol) ) for j in range(paths) )\n",
    "                                              \n",
    "        rates[(row+1):,i,:] = (rates[(row+1):,i-1,:] + r * rates[(row+1):,i-1,:] * 0.5 +\n",
    "                                diffusion * dwt * np.sqrt(0.5))        \n",
    "    return rates"
   ]
  },
  {
   "cell_type": "code",
   "execution_count": 198,
   "metadata": {},
   "outputs": [],
   "source": [
    "para=np.array([1.24445565e+00, 1.03384821e-01, 7.25724878e-02, 7.00277649e-03]) \n",
    "\n",
    "sim_rates=smm(DFT, corr, 5000, len(para),para)\n",
    "sim_rates_10k=smm(DFT, corr, 10000, len(para),para)\n",
    "sim_rates_50k=smm(DFT, corr, 50000, len(para),para)\n",
    "sim_rates_100k=smm(DFT, corr, 100000, len(para),para)"
   ]
  },
  {
   "cell_type": "code",
   "execution_count": 199,
   "metadata": {},
   "outputs": [
    {
     "data": {
      "text/plain": [
       "array([[0.99861392, 1.        , 0.        , 0.        , 0.        ],\n",
       "       [0.99759357, 0.99896366, 1.        , 0.        , 0.        ],\n",
       "       [0.99652022, 0.99785927, 0.99904042, 1.        , 0.        ],\n",
       "       [0.99554908, 0.99682642, 0.99812227, 0.99897508, 1.        ],\n",
       "       [0.99447329, 0.99565606, 0.99709571, 0.99783977, 0.99916139]])"
      ]
     },
     "execution_count": 199,
     "metadata": {},
     "output_type": "execute_result"
    }
   ],
   "source": [
    "sim_rates[:5,:5,1]"
   ]
  },
  {
   "cell_type": "markdown",
   "metadata": {},
   "source": [
    "#### To make sure that we  can use the same data to generate our result, I used the saved sim_rates in the following steps, which may not be the best one to calibrate the market. "
   ]
  },
  {
   "cell_type": "code",
   "execution_count": 70,
   "metadata": {},
   "outputs": [],
   "source": [
    "# load the saved data\n",
    "#load_rates=np.loadtxt('sim_rates.txt')\n",
    "# original sim_rates.shape=(20,20,5000)\n",
    "#sim_rates=load_rates.reshape(load_rates.shape[0],load_rates.shape[1]//5000,5000) # depends on the simulation paths"
   ]
  },
  {
   "cell_type": "code",
   "execution_count": null,
   "metadata": {},
   "outputs": [],
   "source": []
  },
  {
   "cell_type": "markdown",
   "metadata": {},
   "source": [
    "###  Step 2 Price a swaption using LSM"
   ]
  },
  {
   "cell_type": "code",
   "execution_count": 200,
   "metadata": {},
   "outputs": [],
   "source": [
    "def ContinuationValue(x,method,k,y):\n",
    "    L=np.zeros(shape=(k,len(x)))\n",
    "    b=np.zeros(k)\n",
    "    if method==\"Hermite\":\n",
    "        L[0,:]=np.ones_like(x)\n",
    "        L[1,:]= 2*x\n",
    "        for i in range(2,k):\n",
    "            L[i,:]=2*x*L[i-1,:]-2*(i-1)*L[i-2,:]\n",
    "    if method==\"Laguerre\":\n",
    "        if k==2:\n",
    "            L[0,:]=np.exp(-x/2)\n",
    "            L[1,:]=np.exp(-x/2)*(1-x)\n",
    "        if k==3:\n",
    "            L[0,:]=np.exp(-x/2)\n",
    "            L[1,:]=np.exp(-x/2)*(1-x)\n",
    "            L[2,:]=np.exp(-x/2)*(1-2*x+1/2*np.power(x,2))\n",
    "        if k==4:\n",
    "            L[0,:]=np.exp(-x/2)\n",
    "            L[1,:]=np.exp(-x/2)*(1-x)\n",
    "            L[2,:]=np.exp(-x/2)*(1-2*x+1/2*np.power(x,2))\n",
    "            L[3,:]=np.exp(-x/2)*(1-3*x+3/2*np.power(x,2)-1/6*np.power(x,3))\n",
    "    if method==\"Monomials\":\n",
    "        for i in range(0,k):\n",
    "            L[i,:]=np.power(x,i)\n",
    "    A=np.zeros(shape=(k,k))\n",
    "    for i in range(0,k):\n",
    "        b[i]=np.sum(y*L[i,:])\n",
    "        for j in range(0,k):\n",
    "            A[j,i]=np.sum(L[i,:]*L[j,:])\n",
    "    a= np.dot(np.linalg.inv(A),b)\n",
    "    V=np.sum(L*a[:,np.newaxis],axis=0)# sum cols\n",
    "    return  V.reshape((-1,1))"
   ]
  },
  {
   "cell_type": "code",
   "execution_count": 201,
   "metadata": {},
   "outputs": [],
   "source": [
    "def Laguerre_feature(x,k):\n",
    "#    x=ev.ravel()\n",
    "#    k=3\n",
    "    L=np.zeros(shape=(k,len(x)))\n",
    "    if k==2:\n",
    "        L[0,:]=np.exp(-x/2)\n",
    "        L[1,:]=np.exp(-x/2)*(1-x)\n",
    "    if k==3:\n",
    "        L[0,:]=np.exp(-x/2)\n",
    "        L[1,:]=np.exp(-x/2)*(1-x)\n",
    "        L[2,:]=np.exp(-x/2)*(1-2*x+1/2*np.power(x,2))\n",
    "    if k==4:\n",
    "        L[0,:]=np.exp(-x/2)\n",
    "        L[1,:]=np.exp(-x/2)*(1-x)\n",
    "        L[2,:]=np.exp(-x/2)*(1-2*x+1/2*np.power(x,2))\n",
    "        L[3,:]=np.exp(-x/2)*(1-3*x+3/2*np.power(x,2)-1/6*np.power(x,3))\n",
    "    return L.T"
   ]
  },
  {
   "cell_type": "code",
   "execution_count": 202,
   "metadata": {},
   "outputs": [],
   "source": [
    "from sklearn.linear_model import Lasso\n",
    "def lasso_regressor(x,y,alpha):\n",
    "    lassoreg = Lasso(fit_intercept=False,alpha=alpha,normalize=True, max_iter=1e3)\n",
    "    lassoreg.fit(x,y)\n",
    "    y_pred = lassoreg.predict(x)\n",
    "    return y_pred\n"
   ]
  },
  {
   "cell_type": "code",
   "execution_count": 203,
   "metadata": {},
   "outputs": [],
   "source": [
    "def Bermudan_swaption_lsm_full(lockout,maturity,sim_rates,strike,alpha):    \n",
    "    expiry=int(2*lockout)\n",
    "    tenor=int(2*maturity)\n",
    "    \n",
    "    step=tenor-expiry  # 18\n",
    "    paths=sim_rates.shape[2] # 5000\n",
    "    di = np.diag_indices(expiry) # 1y 2 dis\n",
    "    \n",
    "# discount factor for calculate the final prc\n",
    "    cmmf = np.prod(sim_rates[di], axis = 0) # (5000,1)\n",
    "    \n",
    "    rates=sim_rates[expiry:tenor,expiry:tenor,:] #18*18*5000\n",
    "    \n",
    "    di=np.diag_indices(int(tenor-expiry-1))\n",
    "    di=(di[0]+expiry,di[1]+expiry)\n",
    "    disc_mat=sim_rates[di]\n",
    "    \n",
    "# discount map for each related time step \n",
    "    discount_mat=np.hstack((np.ones((paths,1)),np.cumprod(sim_rates[di],axis=0).T)) #5000 * 18\n",
    "\n",
    "# initial matrix\n",
    "    value_mat=np.zeros((paths,step)) # value_mat 5000*18\n",
    "    index_mat=np.zeros((paths,step)) # value_mat 5000*18\n",
    "    payoff_mat=np.zeros_like(value_mat) # value_mat 5000*18\n",
    "       \n",
    "# calculate the par rate at 18 possible excercise date\n",
    "    denominator=np.sum(sim_rates[expiry-1:tenor,expiry:tenor,:],axis=0)-1 # 18*5000 3D to 2D\n",
    "    \n",
    "    numerator=2*(1-sim_rates[int(tenor-1),expiry:tenor,:]) # 18*5000\n",
    "    par=numerator/denominator # 19*5000\n",
    "    payoff_mat = 0.5 * np.maximum(strike-par.T, 0) * denominator.T #5000 *100\n",
    "    \n",
    "    index_mat[:,-1]=np.where(payoff_mat[:,-1]>0,1,0) #5000*1\n",
    "    value_mat[:,-1]=payoff_mat[:,-1] # 5000*1\n",
    "# European swaption price and ex prob\n",
    "    Euro_prc=np.mean(payoff_mat[:,0]*cmmf)\n",
    "    ex_prob=np.sum(np.where(payoff_mat[:,0]>0,1,0))/paths    \n",
    "            \n",
    "    for i in range(step-2,-1,-1):\n",
    "        y=value_mat[:,i+1].reshape((paths,1)) # 5000*1\n",
    "        bond_prc=rates[i:int(tenor-expiry),i,:].T # 5000*n\n",
    "        cv=disc_mat[i].reshape((paths,1))*y # 5000*1\n",
    "        ev=payoff_mat[:,i].reshape((paths,1)) # 5000*1        \n",
    "# construct the basis functions        \n",
    "#        swap_value = np.repeat(ev, 3, axis = 1) ** np.arange(1, 4) # 5000*3\n",
    "        swap_value = Laguerre_feature(ev.ravel(),3)\n",
    "        constant=np.ones((paths,1))\n",
    "#        basis=np.hstack((np.hstack((constant,bond_prc)),swap_value))\n",
    "        bond_prc_laguerre=np.apply_along_axis(Laguerre_feature,0,bond_prc,k=4).reshape((paths,-1))\n",
    "        basis=np.hstack((np.hstack((constant,bond_prc_laguerre)),swap_value))\n",
    "#        \n",
    "        # linear regression\n",
    "        cv_hat=lasso_regressor(basis,cv,alpha).reshape((paths,1))\n",
    "        value_mat[:,i]=np.where(ev>cv_hat,ev,cv).ravel()\n",
    "        index_mat[:,i]=np.where(ev>cv_hat,1,0).ravel()\n",
    "        \n",
    "        for j in range(i+1,index_mat.shape[1]):\n",
    "            index_mat[:,j][index_mat[:,int(i)]==1]=0\n",
    "        \n",
    "             \n",
    "    prob=pd.DataFrame({'Time_step': np.arange(expiry,tenor),\n",
    "                       'ex_prob_Euro':np.append(ex_prob,np.repeat(0,step-1)),\n",
    "                       'ex_prob_LSM':np.sum(index_mat,axis=0)/paths})\n",
    "             \n",
    "\n",
    "    price_lsm=np.mean(np.sum(np.multiply(discount_mat,np.multiply(index_mat,payoff_mat)),axis=1)*cmmf)    \n",
    "    return Euro_prc,price_lsm,prob"
   ]
  },
  {
   "cell_type": "code",
   "execution_count": 204,
   "metadata": {},
   "outputs": [],
   "source": [
    "def Bermudan_swaption_lsm(lockout,maturity,sim_rates,strike,alpha):   \n",
    "    expiry=int(2*lockout)\n",
    "    tenor=int(2*maturity)\n",
    "    \n",
    "    step=tenor-expiry  # 18\n",
    "    paths=sim_rates.shape[2] # 5000\n",
    "    di = np.diag_indices(expiry) # 1y 2 dis\n",
    "    \n",
    "# discount factor for calculate the final prc\n",
    "    cmmf = np.prod(sim_rates[di], axis = 0) # (5000,1)\n",
    "    \n",
    "    rates=sim_rates[expiry:tenor,expiry:tenor,:] #18*18*5000\n",
    "    \n",
    "    di=np.diag_indices(int(tenor-expiry-1))\n",
    "    di=(di[0]+expiry,di[1]+expiry)\n",
    "    disc_mat=sim_rates[di]\n",
    "    \n",
    "# discount map for each related time step \n",
    "    discount_mat=np.hstack((np.ones((paths,1)),np.cumprod(sim_rates[di],axis=0).T)) #5000 * 18\n",
    "\n",
    "# initial matrix\n",
    "    value_mat=np.zeros((paths,step)) # value_mat 5000*18\n",
    "    index_mat=np.zeros((paths,step)) # value_mat 5000*18\n",
    "    payoff_mat=np.zeros_like(value_mat) # value_mat 5000*18\n",
    "       \n",
    "# calculate the par rate at 18 possible excercise date\n",
    "    denominator=np.sum(sim_rates[expiry-1:tenor,expiry:tenor,:],axis=0)-1 # 18*5000 3D to 2D\n",
    "    \n",
    "    numerator=2*(1-sim_rates[int(tenor-1),expiry:tenor,:]) # 18*5000\n",
    "    par=numerator/denominator # 19*5000\n",
    "    payoff_mat = 0.5 * np.maximum(strike-par.T, 0) * denominator.T #5000 *100\n",
    "    \n",
    "    index_mat[:,-1]=np.where(payoff_mat[:,-1]>0,1,0) #5000*1\n",
    "    value_mat[:,-1]=payoff_mat[:,-1] # 5000*1\n",
    "# European swaption price and ex prob\n",
    "    Euro_prc=np.mean(payoff_mat[:,0]*cmmf)\n",
    "    ex_prob=np.sum(np.where(payoff_mat[:,0]>0,1,0))/paths    \n",
    "            \n",
    "    for i in range(step-2,-1,-1):\n",
    "        y=value_mat[:,i+1].reshape((paths,1)) # 5000*1\n",
    "        bond_prc=rates[i:int(tenor-expiry),i,:].T # 5000*n\n",
    "        cv=disc_mat[i].reshape((paths,1))*y # 5000*1\n",
    "        ev=payoff_mat[:,i].reshape((paths,1)) # 5000*1\n",
    "        \n",
    "# construct the basis functions        \n",
    "#        swap_value = np.repeat(ev, 3, axis = 1) ** np.arange(1, 4) # 5000*3\n",
    "        swap_value = Laguerre_feature(ev.ravel(),3)\n",
    "        constant=np.ones((paths,1))\n",
    "#        basis=np.hstack((np.hstack((constant,bond_prc)),swap_value))\n",
    "        bond_prc_laguerre=np.apply_along_axis(Laguerre_feature,0,bond_prc,k=4).reshape((paths,-1))\n",
    "        basis=np.hstack((np.hstack((constant,bond_prc_laguerre)),swap_value))\n",
    "        \n",
    "#        \n",
    "        # linear regression  for ITM options\n",
    "        mask=ev.ravel()>0\n",
    "        ev=ev[mask]\n",
    "        cv=cv[mask]\n",
    "        basis=basis[mask]\n",
    "        \n",
    "        cv_hat=lasso_regressor(basis,cv,alpha).reshape((len(cv),1))\n",
    "        value_mat[mask,i]=np.where(ev>cv_hat,ev,cv).ravel()\n",
    "        index_mat[mask,i]=np.where(ev>cv_hat,1,0).ravel()\n",
    "        \n",
    "        for j in range(i+1,index_mat.shape[1]):\n",
    "            index_mat[:,j][index_mat[:,int(i)]==1]=0\n",
    "        \n",
    "             \n",
    "    prob=pd.DataFrame({'Time_step': np.arange(expiry,tenor),\n",
    "                       'ex_prob_Euro':np.append(ex_prob,np.repeat(0,step-1)),\n",
    "                       'ex_prob_LSM':np.sum(index_mat,axis=0)/paths})\n",
    "             \n",
    "\n",
    "    price_lsm=np.mean(np.sum(np.multiply(discount_mat,np.multiply(index_mat,payoff_mat)),axis=1)*cmmf)    \n",
    "    return Euro_prc,price_lsm,prob"
   ]
  },
  {
   "cell_type": "code",
   "execution_count": 205,
   "metadata": {},
   "outputs": [],
   "source": [
    "## for test 10 nc 1    \n",
    "lockout=1\n",
    "maturity=10\n",
    "strike=0.008\n",
    "alpha=0.001\n"
   ]
  },
  {
   "cell_type": "code",
   "execution_count": 206,
   "metadata": {},
   "outputs": [
    {
     "name": "stdout",
     "output_type": "stream",
     "text": [
      "Wall time: 261 ms\n"
     ]
    }
   ],
   "source": [
    "%%time\n",
    "prc_lsm_full=Bermudan_swaption_lsm_full(lockout,maturity,sim_rates,strike,alpha)"
   ]
  },
  {
   "cell_type": "code",
   "execution_count": 207,
   "metadata": {},
   "outputs": [
    {
     "name": "stdout",
     "output_type": "stream",
     "text": [
      "European swaption pirce: 0.006939140046653583\n",
      "American swaption pirce: 0.007624504483292219\n"
     ]
    }
   ],
   "source": [
    "print('European swaption pirce: {}'.format(prc_lsm_full[0]))\n",
    "print('American swaption pirce: {}'.format(prc_lsm_full[1]))"
   ]
  },
  {
   "cell_type": "code",
   "execution_count": 208,
   "metadata": {},
   "outputs": [
    {
     "name": "stdout",
     "output_type": "stream",
     "text": [
      "Wall time: 271 ms\n"
     ]
    }
   ],
   "source": [
    "%%time\n",
    "prc_lsm=Bermudan_swaption_lsm(lockout,maturity,sim_rates,strike,alpha)"
   ]
  },
  {
   "cell_type": "code",
   "execution_count": 210,
   "metadata": {},
   "outputs": [
    {
     "name": "stdout",
     "output_type": "stream",
     "text": [
      "European swaption pirce: 0.006939140046653583\n",
      "American swaption pirce: 0.007562926519406778\n"
     ]
    }
   ],
   "source": [
    "print('European swaption pirce: {}'.format(prc_lsm[0]))\n",
    "print('American swaption pirce: {}'.format(prc_lsm[1]))"
   ]
  },
  {
   "cell_type": "code",
   "execution_count": null,
   "metadata": {},
   "outputs": [],
   "source": []
  },
  {
   "cell_type": "code",
   "execution_count": 211,
   "metadata": {},
   "outputs": [
    {
     "name": "stdout",
     "output_type": "stream",
     "text": [
      "Excercise Probability Table\n"
     ]
    },
    {
     "data": {
      "text/html": [
       "<div>\n",
       "<style scoped>\n",
       "    .dataframe tbody tr th:only-of-type {\n",
       "        vertical-align: middle;\n",
       "    }\n",
       "\n",
       "    .dataframe tbody tr th {\n",
       "        vertical-align: top;\n",
       "    }\n",
       "\n",
       "    .dataframe thead th {\n",
       "        text-align: right;\n",
       "    }\n",
       "</style>\n",
       "<table border=\"1\" class=\"dataframe\">\n",
       "  <thead>\n",
       "    <tr style=\"text-align: right;\">\n",
       "      <th></th>\n",
       "      <th>Time_step</th>\n",
       "      <th>ex_prob_Euro</th>\n",
       "      <th>ex_prob_LSM</th>\n",
       "    </tr>\n",
       "  </thead>\n",
       "  <tbody>\n",
       "    <tr>\n",
       "      <td>0</td>\n",
       "      <td>2</td>\n",
       "      <td>0.708</td>\n",
       "      <td>0.4452</td>\n",
       "    </tr>\n",
       "    <tr>\n",
       "      <td>1</td>\n",
       "      <td>3</td>\n",
       "      <td>0.000</td>\n",
       "      <td>0.0638</td>\n",
       "    </tr>\n",
       "    <tr>\n",
       "      <td>2</td>\n",
       "      <td>4</td>\n",
       "      <td>0.000</td>\n",
       "      <td>0.0312</td>\n",
       "    </tr>\n",
       "    <tr>\n",
       "      <td>3</td>\n",
       "      <td>5</td>\n",
       "      <td>0.000</td>\n",
       "      <td>0.0138</td>\n",
       "    </tr>\n",
       "    <tr>\n",
       "      <td>4</td>\n",
       "      <td>6</td>\n",
       "      <td>0.000</td>\n",
       "      <td>0.0094</td>\n",
       "    </tr>\n",
       "    <tr>\n",
       "      <td>5</td>\n",
       "      <td>7</td>\n",
       "      <td>0.000</td>\n",
       "      <td>0.0088</td>\n",
       "    </tr>\n",
       "    <tr>\n",
       "      <td>6</td>\n",
       "      <td>8</td>\n",
       "      <td>0.000</td>\n",
       "      <td>0.0070</td>\n",
       "    </tr>\n",
       "    <tr>\n",
       "      <td>7</td>\n",
       "      <td>9</td>\n",
       "      <td>0.000</td>\n",
       "      <td>0.0060</td>\n",
       "    </tr>\n",
       "    <tr>\n",
       "      <td>8</td>\n",
       "      <td>10</td>\n",
       "      <td>0.000</td>\n",
       "      <td>0.0042</td>\n",
       "    </tr>\n",
       "    <tr>\n",
       "      <td>9</td>\n",
       "      <td>11</td>\n",
       "      <td>0.000</td>\n",
       "      <td>0.0048</td>\n",
       "    </tr>\n",
       "    <tr>\n",
       "      <td>10</td>\n",
       "      <td>12</td>\n",
       "      <td>0.000</td>\n",
       "      <td>0.0042</td>\n",
       "    </tr>\n",
       "    <tr>\n",
       "      <td>11</td>\n",
       "      <td>13</td>\n",
       "      <td>0.000</td>\n",
       "      <td>0.0030</td>\n",
       "    </tr>\n",
       "    <tr>\n",
       "      <td>12</td>\n",
       "      <td>14</td>\n",
       "      <td>0.000</td>\n",
       "      <td>0.0066</td>\n",
       "    </tr>\n",
       "    <tr>\n",
       "      <td>13</td>\n",
       "      <td>15</td>\n",
       "      <td>0.000</td>\n",
       "      <td>0.0054</td>\n",
       "    </tr>\n",
       "    <tr>\n",
       "      <td>14</td>\n",
       "      <td>16</td>\n",
       "      <td>0.000</td>\n",
       "      <td>0.0070</td>\n",
       "    </tr>\n",
       "    <tr>\n",
       "      <td>15</td>\n",
       "      <td>17</td>\n",
       "      <td>0.000</td>\n",
       "      <td>0.0092</td>\n",
       "    </tr>\n",
       "    <tr>\n",
       "      <td>16</td>\n",
       "      <td>18</td>\n",
       "      <td>0.000</td>\n",
       "      <td>0.0166</td>\n",
       "    </tr>\n",
       "    <tr>\n",
       "      <td>17</td>\n",
       "      <td>19</td>\n",
       "      <td>0.000</td>\n",
       "      <td>0.0094</td>\n",
       "    </tr>\n",
       "  </tbody>\n",
       "</table>\n",
       "</div>"
      ],
      "text/plain": [
       "    Time_step  ex_prob_Euro  ex_prob_LSM\n",
       "0           2         0.708       0.4452\n",
       "1           3         0.000       0.0638\n",
       "2           4         0.000       0.0312\n",
       "3           5         0.000       0.0138\n",
       "4           6         0.000       0.0094\n",
       "5           7         0.000       0.0088\n",
       "6           8         0.000       0.0070\n",
       "7           9         0.000       0.0060\n",
       "8          10         0.000       0.0042\n",
       "9          11         0.000       0.0048\n",
       "10         12         0.000       0.0042\n",
       "11         13         0.000       0.0030\n",
       "12         14         0.000       0.0066\n",
       "13         15         0.000       0.0054\n",
       "14         16         0.000       0.0070\n",
       "15         17         0.000       0.0092\n",
       "16         18         0.000       0.0166\n",
       "17         19         0.000       0.0094"
      ]
     },
     "execution_count": 211,
     "metadata": {},
     "output_type": "execute_result"
    }
   ],
   "source": [
    "print('Excercise Probability Table')\n",
    "prc_lsm[2]"
   ]
  },
  {
   "cell_type": "markdown",
   "metadata": {},
   "source": [
    "##  Step 3 Train NN model"
   ]
  },
  {
   "cell_type": "code",
   "execution_count": 212,
   "metadata": {},
   "outputs": [],
   "source": [
    "import torch\n",
    "import torch.optim as optim\n",
    "import time"
   ]
  },
  {
   "cell_type": "code",
   "execution_count": 213,
   "metadata": {},
   "outputs": [],
   "source": [
    "def trainNN(basis,cv,n_epochs,batch_size,learningrate):\n",
    "    x_train=torch.tensor(basis,dtype=torch.float)    \n",
    "    y_train=torch.tensor(cv,dtype=torch.float)\n",
    "    features_num=int(basis.shape[1])\n",
    "# define a model    \n",
    "    model=torch.nn.Sequential(\n",
    "            torch.nn.Linear(features_num,128),\n",
    "            torch.nn.ReLU(),\n",
    "            torch.nn.Linear(128,64),\n",
    "            torch.nn.ReLU(),\n",
    "            torch.nn.Linear(64,1))# n values\n",
    "    \n",
    "    optimizer=optim.Adam(model.parameters(),lr=learningrate)\n",
    "    train_dataset = torch.utils.data.TensorDataset(x_train, y_train.view(-1,1))\n",
    "    \n",
    "    train_loader = torch.utils.data.DataLoader(dataset = train_dataset, \n",
    "                                               batch_size=batch_size, \n",
    "                                               shuffle=True)\n",
    "    for epoch in range(n_epochs):\n",
    "        for i, (features, cv_value) in enumerate(train_loader):\n",
    "            optimizer.zero_grad()\n",
    "            output = model(features.float())\n",
    "            loss = torch.nn.functional.mse_loss(output,cv_value)\n",
    "            loss.backward()\n",
    "            optimizer.step()\n",
    "                        \n",
    "    y_train_hat =np.squeeze(model(x_train)).detach().numpy().reshape((cv.shape[0],-1))\n",
    "    return y_train_hat"
   ]
  },
  {
   "cell_type": "code",
   "execution_count": 214,
   "metadata": {},
   "outputs": [],
   "source": [
    "def Bermudan_swaption_nn(lockout,maturity,sim_rates,strike,n_epochs,batch_size,learningrate):\n",
    "   \n",
    "    expiry=int(2*lockout)\n",
    "    tenor=int(2*maturity)\n",
    "    \n",
    "    step=tenor-expiry  # 18\n",
    "    paths=sim_rates.shape[2] # 5000\n",
    "    di = np.diag_indices(expiry) # 1y 2 dis\n",
    "    \n",
    "# discount factor for calculate the final prc\n",
    "    cmmf = np.prod(sim_rates[di], axis = 0) # (5000,1)\n",
    "    \n",
    "    rates=sim_rates[expiry:tenor,expiry:tenor,:] #18*18*5000\n",
    "    \n",
    "    di=np.diag_indices(int(tenor-expiry-1))\n",
    "    di=(di[0]+expiry,di[1]+expiry)\n",
    "    disc_mat=sim_rates[di]\n",
    "    \n",
    "# discount map for each related time step \n",
    "    discount_mat=np.hstack((np.ones((paths,1)),np.cumprod(sim_rates[di],axis=0).T)) #5000 * 18\n",
    "\n",
    "# initial matrix\n",
    "\n",
    "    value_rlnn,index_rlnn=np.zeros((paths,step)),np.zeros((paths,step))\n",
    "    \n",
    "# calculate the par rate at 18 possible excercise date\n",
    "    denominator=np.sum(sim_rates[expiry-1:tenor,expiry:tenor,:],axis=0)-1 # 18*5000 3D to 2D\n",
    "    \n",
    "    numerator=2*(1-sim_rates[int(tenor-1),expiry:tenor,:]) # 18*5000\n",
    "    par=numerator/denominator # 19*5000\n",
    "    payoff_mat = 0.5 * np.maximum(strike-par.T, 0) * denominator.T #5000 *100\n",
    "\n",
    "    \n",
    "    index_rlnn[:,-1]=np.where(payoff_mat[:,-1]>0,1,0)\n",
    "    value_rlnn[:,-1]=payoff_mat[:,-1]\n",
    "    \n",
    "# European swaption price and ex prob\n",
    "    Euro_prc=np.mean(payoff_mat[:,0]*cmmf)\n",
    "    ex_prob=np.sum(np.where(payoff_mat[:,0]>0,1,0))/paths    \n",
    "            \n",
    "    for i in range(step-2,-1,-1):\n",
    "        y=value_rlnn[:,i+1].reshape((paths,1)) # 5000*1\n",
    "        bond_prc=rates[i:int(tenor-expiry),i,:].T # 5000*n\n",
    "        cv=disc_mat[i].T.reshape((paths,1))*y # 5000*1\n",
    "        ev=payoff_mat[:,i].reshape((paths,1)) # 5000*1 \n",
    "        \n",
    "# construct the basis functions        \n",
    "#        swap_value = np.repeat(ev, 3, axis = 1) ** np.arange(1, 4) # 5000*3\n",
    "        swap_value = Laguerre_feature(ev.ravel(),3)\n",
    "        constant=np.ones((paths,1))\n",
    "#        basis=np.hstack((np.hstack((constant,bond_prc)),swap_value))\n",
    "        bond_prc_laguerre=np.apply_along_axis(Laguerre_feature,0,bond_prc,k=3).reshape((paths,-1))\n",
    "        basis=np.hstack((np.hstack((constant,bond_prc_laguerre)),swap_value))\n",
    "        \n",
    "\n",
    "        # Regress now NN\n",
    "        mask=ev.ravel()>0\n",
    "        ev=ev[mask]\n",
    "        cv=cv[mask]\n",
    "        basis=basis[mask]\n",
    "        \n",
    "        cv_rlnn=trainNN(basis,cv,n_epochs,batch_size,learningrate)\n",
    "        value_rlnn[mask,i]=np.where(ev>cv_rlnn,ev,cv).ravel() # cv instead of cv_rlnn\n",
    "        index_rlnn[mask,i]=np.where(ev>cv,1,0).ravel()\n",
    "        \n",
    "        for j in range(i+1,index_rlnn.shape[1]):            \n",
    "             index_rlnn[:,j][index_rlnn[:,int(i)]==1]=0\n",
    "             \n",
    "    prob=pd.DataFrame({'Time_step': np.arange(expiry,tenor),\n",
    "                       'ex_prob_Euro':np.append(ex_prob,np.repeat(0,step-1)),\n",
    "                       'ex_prob_RLNN':np.sum(index_rlnn,axis=0)/paths})\n",
    "\n",
    "    price_rlnn=np.mean(np.sum(np.multiply(discount_mat,np.multiply(index_rlnn,payoff_mat)),axis=1)*cmmf)\n",
    "    \n",
    "    return Euro_prc,price_rlnn,prob"
   ]
  },
  {
   "cell_type": "code",
   "execution_count": 215,
   "metadata": {},
   "outputs": [],
   "source": [
    "## for test 10 nc 1\n",
    "\n",
    "lockout=1\n",
    "maturity=10\n",
    "strike=0.008\n",
    "learningrate=0.001\n",
    "n_epochs=30\n",
    "batch_size=64\n",
    "seed=123\n",
    "learningrate=0.001\n",
    "sim_rates=sim_rates\n"
   ]
  },
  {
   "cell_type": "code",
   "execution_count": 216,
   "metadata": {},
   "outputs": [
    {
     "name": "stdout",
     "output_type": "stream",
     "text": [
      "Wall time: 29.8 s\n"
     ]
    }
   ],
   "source": [
    "%%time\n",
    "prc_nn=Bermudan_swaption_nn(lockout,maturity,sim_rates,strike,n_epochs,batch_size,learningrate)"
   ]
  },
  {
   "cell_type": "code",
   "execution_count": 217,
   "metadata": {},
   "outputs": [
    {
     "name": "stdout",
     "output_type": "stream",
     "text": [
      "European swaption pirce: 0.006939140046653583\n"
     ]
    }
   ],
   "source": [
    "print('European swaption pirce: {}'.format(prc_nn[0]))"
   ]
  },
  {
   "cell_type": "code",
   "execution_count": 218,
   "metadata": {},
   "outputs": [
    {
     "name": "stdout",
     "output_type": "stream",
     "text": [
      "Bermudan swaption pirce: 0.00876978495957119\n"
     ]
    }
   ],
   "source": [
    "print('Bermudan swaption pirce: {}'.format(prc_nn[1]))"
   ]
  },
  {
   "cell_type": "code",
   "execution_count": 219,
   "metadata": {},
   "outputs": [
    {
     "name": "stdout",
     "output_type": "stream",
     "text": [
      "Excercise Probability Table\n"
     ]
    },
    {
     "data": {
      "text/html": [
       "<div>\n",
       "<style scoped>\n",
       "    .dataframe tbody tr th:only-of-type {\n",
       "        vertical-align: middle;\n",
       "    }\n",
       "\n",
       "    .dataframe tbody tr th {\n",
       "        vertical-align: top;\n",
       "    }\n",
       "\n",
       "    .dataframe thead th {\n",
       "        text-align: right;\n",
       "    }\n",
       "</style>\n",
       "<table border=\"1\" class=\"dataframe\">\n",
       "  <thead>\n",
       "    <tr style=\"text-align: right;\">\n",
       "      <th></th>\n",
       "      <th>Time_step</th>\n",
       "      <th>ex_prob_Euro</th>\n",
       "      <th>ex_prob_RLNN</th>\n",
       "    </tr>\n",
       "  </thead>\n",
       "  <tbody>\n",
       "    <tr>\n",
       "      <td>0</td>\n",
       "      <td>2</td>\n",
       "      <td>0.708</td>\n",
       "      <td>0.4914</td>\n",
       "    </tr>\n",
       "    <tr>\n",
       "      <td>1</td>\n",
       "      <td>3</td>\n",
       "      <td>0.000</td>\n",
       "      <td>0.1672</td>\n",
       "    </tr>\n",
       "    <tr>\n",
       "      <td>2</td>\n",
       "      <td>4</td>\n",
       "      <td>0.000</td>\n",
       "      <td>0.0762</td>\n",
       "    </tr>\n",
       "    <tr>\n",
       "      <td>3</td>\n",
       "      <td>5</td>\n",
       "      <td>0.000</td>\n",
       "      <td>0.0308</td>\n",
       "    </tr>\n",
       "    <tr>\n",
       "      <td>4</td>\n",
       "      <td>6</td>\n",
       "      <td>0.000</td>\n",
       "      <td>0.0154</td>\n",
       "    </tr>\n",
       "    <tr>\n",
       "      <td>5</td>\n",
       "      <td>7</td>\n",
       "      <td>0.000</td>\n",
       "      <td>0.0056</td>\n",
       "    </tr>\n",
       "    <tr>\n",
       "      <td>6</td>\n",
       "      <td>8</td>\n",
       "      <td>0.000</td>\n",
       "      <td>0.0080</td>\n",
       "    </tr>\n",
       "    <tr>\n",
       "      <td>7</td>\n",
       "      <td>9</td>\n",
       "      <td>0.000</td>\n",
       "      <td>0.0026</td>\n",
       "    </tr>\n",
       "    <tr>\n",
       "      <td>8</td>\n",
       "      <td>10</td>\n",
       "      <td>0.000</td>\n",
       "      <td>0.0036</td>\n",
       "    </tr>\n",
       "    <tr>\n",
       "      <td>9</td>\n",
       "      <td>11</td>\n",
       "      <td>0.000</td>\n",
       "      <td>0.0028</td>\n",
       "    </tr>\n",
       "    <tr>\n",
       "      <td>10</td>\n",
       "      <td>12</td>\n",
       "      <td>0.000</td>\n",
       "      <td>0.0044</td>\n",
       "    </tr>\n",
       "    <tr>\n",
       "      <td>11</td>\n",
       "      <td>13</td>\n",
       "      <td>0.000</td>\n",
       "      <td>0.0018</td>\n",
       "    </tr>\n",
       "    <tr>\n",
       "      <td>12</td>\n",
       "      <td>14</td>\n",
       "      <td>0.000</td>\n",
       "      <td>0.0038</td>\n",
       "    </tr>\n",
       "    <tr>\n",
       "      <td>13</td>\n",
       "      <td>15</td>\n",
       "      <td>0.000</td>\n",
       "      <td>0.0016</td>\n",
       "    </tr>\n",
       "    <tr>\n",
       "      <td>14</td>\n",
       "      <td>16</td>\n",
       "      <td>0.000</td>\n",
       "      <td>0.0026</td>\n",
       "    </tr>\n",
       "    <tr>\n",
       "      <td>15</td>\n",
       "      <td>17</td>\n",
       "      <td>0.000</td>\n",
       "      <td>0.0042</td>\n",
       "    </tr>\n",
       "    <tr>\n",
       "      <td>16</td>\n",
       "      <td>18</td>\n",
       "      <td>0.000</td>\n",
       "      <td>0.0046</td>\n",
       "    </tr>\n",
       "    <tr>\n",
       "      <td>17</td>\n",
       "      <td>19</td>\n",
       "      <td>0.000</td>\n",
       "      <td>0.0030</td>\n",
       "    </tr>\n",
       "  </tbody>\n",
       "</table>\n",
       "</div>"
      ],
      "text/plain": [
       "    Time_step  ex_prob_Euro  ex_prob_RLNN\n",
       "0           2         0.708        0.4914\n",
       "1           3         0.000        0.1672\n",
       "2           4         0.000        0.0762\n",
       "3           5         0.000        0.0308\n",
       "4           6         0.000        0.0154\n",
       "5           7         0.000        0.0056\n",
       "6           8         0.000        0.0080\n",
       "7           9         0.000        0.0026\n",
       "8          10         0.000        0.0036\n",
       "9          11         0.000        0.0028\n",
       "10         12         0.000        0.0044\n",
       "11         13         0.000        0.0018\n",
       "12         14         0.000        0.0038\n",
       "13         15         0.000        0.0016\n",
       "14         16         0.000        0.0026\n",
       "15         17         0.000        0.0042\n",
       "16         18         0.000        0.0046\n",
       "17         19         0.000        0.0030"
      ]
     },
     "execution_count": 219,
     "metadata": {},
     "output_type": "execute_result"
    }
   ],
   "source": [
    "print('Excercise Probability Table')\n",
    "prc_nn[2]"
   ]
  },
  {
   "cell_type": "code",
   "execution_count": 220,
   "metadata": {},
   "outputs": [],
   "source": [
    "import xgboost"
   ]
  },
  {
   "cell_type": "code",
   "execution_count": 221,
   "metadata": {},
   "outputs": [],
   "source": [
    "def train_xgb_basic(basis,cv,seed):\n",
    "    train_x=basis\n",
    "    train_y=cv\n",
    "# base model\n",
    "    xgb_model = xgboost.XGBRegressor(seed=seed)\n",
    "\n",
    "# fit the model\n",
    "    xgb_model.fit(train_x,train_y)\n",
    "    y_xgb=xgb_model.predict(train_x).reshape((-1,1))\n",
    "    return y_xgb"
   ]
  },
  {
   "cell_type": "code",
   "execution_count": 222,
   "metadata": {},
   "outputs": [],
   "source": [
    "def Bermudan_swaption_xgboost(lockout,maturity,sim_rates,strike,seed):\n",
    "   \n",
    "    expiry=int(2*lockout)\n",
    "    tenor=int(2*maturity)\n",
    "    \n",
    "    step=tenor-expiry  # 18\n",
    "    paths=sim_rates.shape[2] # 5000\n",
    "    di = np.diag_indices(expiry) # 1y 2 dis\n",
    "    \n",
    "# discount factor for calculate the final prc\n",
    "    cmmf = np.prod(sim_rates[di], axis = 0) # (5000,1)\n",
    "    \n",
    "    rates=sim_rates[expiry:tenor,expiry:tenor,:] #18*18*5000\n",
    "    \n",
    "    di=np.diag_indices(int(tenor-expiry-1))\n",
    "    di=(di[0]+expiry,di[1]+expiry)\n",
    "    disc_mat=sim_rates[di]\n",
    "    \n",
    "# discount map for each related time step \n",
    "    discount_mat=np.hstack((np.ones((paths,1)),np.cumprod(sim_rates[di],axis=0).T)) #5000 * 18\n",
    "\n",
    "# initial matrix\n",
    "\n",
    "    value_xgb,index_xgb=np.zeros((paths,step)),np.zeros((paths,step))\n",
    "    \n",
    "# calculate the par rate at 18 possible excercise date\n",
    "    denominator=np.sum(sim_rates[expiry-1:tenor,expiry:tenor,:],axis=0)-1 # 18*5000 3D to 2D\n",
    "    \n",
    "    numerator=2*(1-sim_rates[int(tenor-1),expiry:tenor,:]) # 18*5000\n",
    "    par=numerator/denominator # 19*5000\n",
    "    payoff_mat = 0.5 * np.maximum(strike-par.T, 0) * denominator.T #5000 *100\n",
    "\n",
    "    \n",
    "    index_xgb[:,-1]=np.where(payoff_mat[:,-1]>0,1,0)\n",
    "    value_xgb[:,-1]=payoff_mat[:,-1]\n",
    "    \n",
    "# European swaption price and ex prob\n",
    "    Euro_prc=np.mean(payoff_mat[:,0]*cmmf)\n",
    "    ex_prob=np.sum(np.where(payoff_mat[:,0]>0,1,0))/paths    \n",
    "            \n",
    "    for i in range(step-2,-1,-1):\n",
    "        y=value_xgb[:,i+1].reshape((paths,1)) # 5000*1\n",
    "        bond_prc=rates[i:int(tenor-expiry),i,:].T # 5000*n\n",
    "        cv=disc_mat[i].T.reshape((paths,1))*y # 5000*1\n",
    "        ev=payoff_mat[:,i].reshape((paths,1)) # 5000*1 \n",
    "        \n",
    "# construct the basis functions        \n",
    "#        swap_value = np.repeat(ev, 3, axis = 1) ** np.arange(1, 4) # 5000*3\n",
    "        swap_value = Laguerre_feature(ev.ravel(),3)\n",
    "        constant=np.ones((paths,1))\n",
    "#        basis=np.hstack((np.hstack((constant,bond_prc)),swap_value))\n",
    "        bond_prc_laguerre=np.apply_along_axis(Laguerre_feature,0,bond_prc,k=3).reshape((paths,-1))\n",
    "        basis=np.hstack((np.hstack((constant,bond_prc_laguerre)),swap_value))\n",
    "        \n",
    "\n",
    "        # Regress now NN\n",
    "        mask=ev.ravel()>0\n",
    "        ev=ev[mask]\n",
    "        cv=cv[mask]\n",
    "        basis=basis[mask]\n",
    "        \n",
    "        cv_xgb=train_xgb_basic(basis,cv,seed)\n",
    "        value_xgb[mask,i]=np.where(ev>cv_xgb,ev,cv).ravel()\n",
    "        index_xgb[mask,i]=np.where(ev>cv_xgb,1,0).ravel()\n",
    "        \n",
    "        for j in range(i+1,index_xgb.shape[1]):            \n",
    "             index_xgb[:,j][index_xgb[:,int(i)]==1]=0\n",
    "             \n",
    "    prob=pd.DataFrame({'Time_step': np.arange(expiry,tenor),\n",
    "                       'ex_prob_Euro':np.append(ex_prob,np.repeat(0,step-1)),\n",
    "                       'ex_prob_xgb':np.sum(index_xgb,axis=0)/paths})\n",
    "\n",
    "    price_xgb=np.mean(np.sum(np.multiply(discount_mat,np.multiply(index_xgb,payoff_mat)),axis=1)*cmmf)\n",
    "    \n",
    "    return Euro_prc,price_xgb,prob"
   ]
  },
  {
   "cell_type": "code",
   "execution_count": 223,
   "metadata": {},
   "outputs": [],
   "source": [
    "## for test 10 nc 1\n",
    "lockout=1\n",
    "maturity=10\n",
    "strike=0.008\n",
    "seed=123"
   ]
  },
  {
   "cell_type": "code",
   "execution_count": 224,
   "metadata": {},
   "outputs": [
    {
     "name": "stdout",
     "output_type": "stream",
     "text": [
      "Wall time: 3.19 s\n"
     ]
    }
   ],
   "source": [
    "%%time\n",
    "prc_xgb=Bermudan_swaption_xgboost(lockout,maturity,sim_rates,strike,seed)"
   ]
  },
  {
   "cell_type": "code",
   "execution_count": 225,
   "metadata": {},
   "outputs": [
    {
     "name": "stdout",
     "output_type": "stream",
     "text": [
      "European swaption pirce: 0.006939140046653583\n"
     ]
    }
   ],
   "source": [
    "print('European swaption pirce: {}'.format(prc_xgb[0]))"
   ]
  },
  {
   "cell_type": "code",
   "execution_count": 226,
   "metadata": {},
   "outputs": [
    {
     "name": "stdout",
     "output_type": "stream",
     "text": [
      "Bermudan swaption pirce: 0.009037917940101392\n"
     ]
    }
   ],
   "source": [
    "print('Bermudan swaption pirce: {}'.format(prc_xgb[1]))"
   ]
  },
  {
   "cell_type": "code",
   "execution_count": 227,
   "metadata": {},
   "outputs": [
    {
     "name": "stdout",
     "output_type": "stream",
     "text": [
      "Excercise Probability Table\n"
     ]
    },
    {
     "data": {
      "text/html": [
       "<div>\n",
       "<style scoped>\n",
       "    .dataframe tbody tr th:only-of-type {\n",
       "        vertical-align: middle;\n",
       "    }\n",
       "\n",
       "    .dataframe tbody tr th {\n",
       "        vertical-align: top;\n",
       "    }\n",
       "\n",
       "    .dataframe thead th {\n",
       "        text-align: right;\n",
       "    }\n",
       "</style>\n",
       "<table border=\"1\" class=\"dataframe\">\n",
       "  <thead>\n",
       "    <tr style=\"text-align: right;\">\n",
       "      <th></th>\n",
       "      <th>Time_step</th>\n",
       "      <th>ex_prob_Euro</th>\n",
       "      <th>ex_prob_xgb</th>\n",
       "    </tr>\n",
       "  </thead>\n",
       "  <tbody>\n",
       "    <tr>\n",
       "      <td>0</td>\n",
       "      <td>2</td>\n",
       "      <td>0.708</td>\n",
       "      <td>0.4288</td>\n",
       "    </tr>\n",
       "    <tr>\n",
       "      <td>1</td>\n",
       "      <td>3</td>\n",
       "      <td>0.000</td>\n",
       "      <td>0.1616</td>\n",
       "    </tr>\n",
       "    <tr>\n",
       "      <td>2</td>\n",
       "      <td>4</td>\n",
       "      <td>0.000</td>\n",
       "      <td>0.0812</td>\n",
       "    </tr>\n",
       "    <tr>\n",
       "      <td>3</td>\n",
       "      <td>5</td>\n",
       "      <td>0.000</td>\n",
       "      <td>0.0400</td>\n",
       "    </tr>\n",
       "    <tr>\n",
       "      <td>4</td>\n",
       "      <td>6</td>\n",
       "      <td>0.000</td>\n",
       "      <td>0.0276</td>\n",
       "    </tr>\n",
       "    <tr>\n",
       "      <td>5</td>\n",
       "      <td>7</td>\n",
       "      <td>0.000</td>\n",
       "      <td>0.0136</td>\n",
       "    </tr>\n",
       "    <tr>\n",
       "      <td>6</td>\n",
       "      <td>8</td>\n",
       "      <td>0.000</td>\n",
       "      <td>0.0102</td>\n",
       "    </tr>\n",
       "    <tr>\n",
       "      <td>7</td>\n",
       "      <td>9</td>\n",
       "      <td>0.000</td>\n",
       "      <td>0.0078</td>\n",
       "    </tr>\n",
       "    <tr>\n",
       "      <td>8</td>\n",
       "      <td>10</td>\n",
       "      <td>0.000</td>\n",
       "      <td>0.0048</td>\n",
       "    </tr>\n",
       "    <tr>\n",
       "      <td>9</td>\n",
       "      <td>11</td>\n",
       "      <td>0.000</td>\n",
       "      <td>0.0054</td>\n",
       "    </tr>\n",
       "    <tr>\n",
       "      <td>10</td>\n",
       "      <td>12</td>\n",
       "      <td>0.000</td>\n",
       "      <td>0.0050</td>\n",
       "    </tr>\n",
       "    <tr>\n",
       "      <td>11</td>\n",
       "      <td>13</td>\n",
       "      <td>0.000</td>\n",
       "      <td>0.0034</td>\n",
       "    </tr>\n",
       "    <tr>\n",
       "      <td>12</td>\n",
       "      <td>14</td>\n",
       "      <td>0.000</td>\n",
       "      <td>0.0032</td>\n",
       "    </tr>\n",
       "    <tr>\n",
       "      <td>13</td>\n",
       "      <td>15</td>\n",
       "      <td>0.000</td>\n",
       "      <td>0.0026</td>\n",
       "    </tr>\n",
       "    <tr>\n",
       "      <td>14</td>\n",
       "      <td>16</td>\n",
       "      <td>0.000</td>\n",
       "      <td>0.0028</td>\n",
       "    </tr>\n",
       "    <tr>\n",
       "      <td>15</td>\n",
       "      <td>17</td>\n",
       "      <td>0.000</td>\n",
       "      <td>0.0032</td>\n",
       "    </tr>\n",
       "    <tr>\n",
       "      <td>16</td>\n",
       "      <td>18</td>\n",
       "      <td>0.000</td>\n",
       "      <td>0.0042</td>\n",
       "    </tr>\n",
       "    <tr>\n",
       "      <td>17</td>\n",
       "      <td>19</td>\n",
       "      <td>0.000</td>\n",
       "      <td>0.0046</td>\n",
       "    </tr>\n",
       "  </tbody>\n",
       "</table>\n",
       "</div>"
      ],
      "text/plain": [
       "    Time_step  ex_prob_Euro  ex_prob_xgb\n",
       "0           2         0.708       0.4288\n",
       "1           3         0.000       0.1616\n",
       "2           4         0.000       0.0812\n",
       "3           5         0.000       0.0400\n",
       "4           6         0.000       0.0276\n",
       "5           7         0.000       0.0136\n",
       "6           8         0.000       0.0102\n",
       "7           9         0.000       0.0078\n",
       "8          10         0.000       0.0048\n",
       "9          11         0.000       0.0054\n",
       "10         12         0.000       0.0050\n",
       "11         13         0.000       0.0034\n",
       "12         14         0.000       0.0032\n",
       "13         15         0.000       0.0026\n",
       "14         16         0.000       0.0028\n",
       "15         17         0.000       0.0032\n",
       "16         18         0.000       0.0042\n",
       "17         19         0.000       0.0046"
      ]
     },
     "execution_count": 227,
     "metadata": {},
     "output_type": "execute_result"
    }
   ],
   "source": [
    "print('Excercise Probability Table')\n",
    "prc_xgb[2]"
   ]
  },
  {
   "cell_type": "markdown",
   "metadata": {},
   "source": [
    "#### Conclusion: So far, by simulating 5000 paths, we get 10nc1 European swaption price as 0.0069. However, the 10nc1 Bermudan swaptions prices and computation time from LSM, NN and XGBoost are pretty different, I will use a table to present the result for 5000 paths, we know that Bermudan style options should have a bigger value than vanilla European ones, so LSM generated a smaller price compared to the other two methods, next, I will do the following improvements and comparisions:\n",
    "\n",
    "* Increase the simulated paths to 10,000,  50,000,  100,000\n",
    "* Choose different features\n",
    "* Choose different strike price, tenors and maturities\n",
    "* Tune NN models to explore the minimum training dataset and optimal hyperparameters"
   ]
  },
  {
   "cell_type": "code",
   "execution_count": 228,
   "metadata": {},
   "outputs": [
    {
     "data": {
      "text/html": [
       "<div>\n",
       "<style scoped>\n",
       "    .dataframe tbody tr th:only-of-type {\n",
       "        vertical-align: middle;\n",
       "    }\n",
       "\n",
       "    .dataframe tbody tr th {\n",
       "        vertical-align: top;\n",
       "    }\n",
       "\n",
       "    .dataframe thead th {\n",
       "        text-align: right;\n",
       "    }\n",
       "</style>\n",
       "<table border=\"1\" class=\"dataframe\">\n",
       "  <thead>\n",
       "    <tr style=\"text-align: right;\">\n",
       "      <th></th>\n",
       "      <th>Algorithm</th>\n",
       "      <th>European price</th>\n",
       "      <th>Bermudan price</th>\n",
       "      <th>Time</th>\n",
       "    </tr>\n",
       "  </thead>\n",
       "  <tbody>\n",
       "    <tr>\n",
       "      <td>0</td>\n",
       "      <td>LSM</td>\n",
       "      <td>0.006939</td>\n",
       "      <td>0.007563</td>\n",
       "      <td>271 ms</td>\n",
       "    </tr>\n",
       "    <tr>\n",
       "      <td>1</td>\n",
       "      <td>NN</td>\n",
       "      <td>0.006939</td>\n",
       "      <td>0.008770</td>\n",
       "      <td>29.8 s</td>\n",
       "    </tr>\n",
       "    <tr>\n",
       "      <td>2</td>\n",
       "      <td>XGBoost</td>\n",
       "      <td>0.006939</td>\n",
       "      <td>0.009038</td>\n",
       "      <td>3.19 s</td>\n",
       "    </tr>\n",
       "  </tbody>\n",
       "</table>\n",
       "</div>"
      ],
      "text/plain": [
       "  Algorithm   European price   Bermudan price    Time\n",
       "0       LSM         0.006939         0.007563  271 ms\n",
       "1        NN         0.006939         0.008770  29.8 s\n",
       "2   XGBoost         0.006939         0.009038  3.19 s"
      ]
     },
     "execution_count": 228,
     "metadata": {},
     "output_type": "execute_result"
    }
   ],
   "source": [
    "output_5000=pd.DataFrame({'Algorithm':['LSM','NN','XGBoost'],\n",
    "                          ' European price': [prc_lsm[0],prc_nn[0],prc_xgb[0]],\n",
    "                          ' Bermudan price': [prc_lsm[1],prc_nn[1],prc_xgb[1]],\n",
    "                          ' Time':['271 ms','29.8 s','3.19 s' ]})\n",
    "output_5000"
   ]
  },
  {
   "cell_type": "code",
   "execution_count": 229,
   "metadata": {},
   "outputs": [],
   "source": [
    "# define some output functions\n",
    "def print_result(prc):\n",
    "    print('European swaption pirce: {}'.format(prc[0]))\n",
    "    print('Bermudan swaption pirce: {}'.format(prc[1]))\n",
    "    print('Excercise Probability Table')\n",
    "    print(prc[2])\n",
    "    \n",
    "def make_table(prc_lsm,prc_nn,prc_xgb):\n",
    "    output=pd.DataFrame({'Algorithm':['LSM','NN','XGBoost'],\n",
    "                          ' European price': [prc_lsm[0],prc_nn[0],prc_xgb[0]],\n",
    "                          ' Bermudan price': [prc_lsm[1],prc_nn[1],prc_xgb[1]]})\n",
    "    return output\n"
   ]
  },
  {
   "cell_type": "code",
   "execution_count": 230,
   "metadata": {},
   "outputs": [
    {
     "name": "stdout",
     "output_type": "stream",
     "text": [
      "Wall time: 400 ms\n"
     ]
    }
   ],
   "source": [
    "%%time\n",
    "prc_lsm_10k=Bermudan_swaption_lsm(lockout,maturity,sim_rates_10k,strike,alpha)"
   ]
  },
  {
   "cell_type": "code",
   "execution_count": 231,
   "metadata": {},
   "outputs": [
    {
     "name": "stdout",
     "output_type": "stream",
     "text": [
      "European swaption pirce: 0.006946037983725924\n",
      "Bermudan swaption pirce: 0.007548136794892565\n",
      "Excercise Probability Table\n",
      "    Time_step  ex_prob_Euro  ex_prob_LSM\n",
      "0           2        0.7087       0.4488\n",
      "1           3        0.0000       0.0644\n",
      "2           4        0.0000       0.0287\n",
      "3           5        0.0000       0.0161\n",
      "4           6        0.0000       0.0111\n",
      "5           7        0.0000       0.0084\n",
      "6           8        0.0000       0.0048\n",
      "7           9        0.0000       0.0044\n",
      "8          10        0.0000       0.0042\n",
      "9          11        0.0000       0.0036\n",
      "10         12        0.0000       0.0045\n",
      "11         13        0.0000       0.0059\n",
      "12         14        0.0000       0.0051\n",
      "13         15        0.0000       0.0055\n",
      "14         16        0.0000       0.0050\n",
      "15         17        0.0000       0.0086\n",
      "16         18        0.0000       0.0162\n",
      "17         19        0.0000       0.0120\n"
     ]
    }
   ],
   "source": [
    "print_result(prc_lsm_10k)"
   ]
  },
  {
   "cell_type": "code",
   "execution_count": 232,
   "metadata": {},
   "outputs": [
    {
     "name": "stdout",
     "output_type": "stream",
     "text": [
      "Wall time: 59.6 s\n"
     ]
    }
   ],
   "source": [
    "%%time\n",
    "prc_nn_10k=Bermudan_swaption_nn(lockout,maturity,sim_rates_10k,strike,n_epochs,batch_size,learningrate)"
   ]
  },
  {
   "cell_type": "code",
   "execution_count": 233,
   "metadata": {},
   "outputs": [
    {
     "name": "stdout",
     "output_type": "stream",
     "text": [
      "European swaption pirce: 0.006946037983725924\n",
      "Bermudan swaption pirce: 0.008725274367393876\n",
      "Excercise Probability Table\n",
      "    Time_step  ex_prob_Euro  ex_prob_RLNN\n",
      "0           2        0.7087        0.5022\n",
      "1           3        0.0000        0.1515\n",
      "2           4        0.0000        0.0883\n",
      "3           5        0.0000        0.0347\n",
      "4           6        0.0000        0.0136\n",
      "5           7        0.0000        0.0065\n",
      "6           8        0.0000        0.0036\n",
      "7           9        0.0000        0.0024\n",
      "8          10        0.0000        0.0020\n",
      "9          11        0.0000        0.0032\n",
      "10         12        0.0000        0.0021\n",
      "11         13        0.0000        0.0019\n",
      "12         14        0.0000        0.0022\n",
      "13         15        0.0000        0.0023\n",
      "14         16        0.0000        0.0041\n",
      "15         17        0.0000        0.0026\n",
      "16         18        0.0000        0.0048\n",
      "17         19        0.0000        0.0063\n"
     ]
    }
   ],
   "source": [
    "print_result(prc_nn_10k)"
   ]
  },
  {
   "cell_type": "code",
   "execution_count": 234,
   "metadata": {},
   "outputs": [
    {
     "name": "stdout",
     "output_type": "stream",
     "text": [
      "Wall time: 6.85 s\n"
     ]
    }
   ],
   "source": [
    "%%time\n",
    "prc_xgb_10k=Bermudan_swaption_xgboost(lockout,maturity,sim_rates_10k,strike,seed)"
   ]
  },
  {
   "cell_type": "code",
   "execution_count": 235,
   "metadata": {},
   "outputs": [
    {
     "name": "stdout",
     "output_type": "stream",
     "text": [
      "European swaption pirce: 0.006946037983725924\n",
      "Bermudan swaption pirce: 0.008842740608658497\n",
      "Excercise Probability Table\n",
      "    Time_step  ex_prob_Euro  ex_prob_xgb\n",
      "0           2        0.7087       0.4563\n",
      "1           3        0.0000       0.1495\n",
      "2           4        0.0000       0.0718\n",
      "3           5        0.0000       0.0403\n",
      "4           6        0.0000       0.0205\n",
      "5           7        0.0000       0.0145\n",
      "6           8        0.0000       0.0073\n",
      "7           9        0.0000       0.0053\n",
      "8          10        0.0000       0.0047\n",
      "9          11        0.0000       0.0043\n",
      "10         12        0.0000       0.0023\n",
      "11         13        0.0000       0.0027\n",
      "12         14        0.0000       0.0027\n",
      "13         15        0.0000       0.0037\n",
      "14         16        0.0000       0.0032\n",
      "15         17        0.0000       0.0045\n",
      "16         18        0.0000       0.0059\n",
      "17         19        0.0000       0.0070\n"
     ]
    }
   ],
   "source": [
    "print_result(prc_xgb_10k)"
   ]
  },
  {
   "cell_type": "code",
   "execution_count": 236,
   "metadata": {},
   "outputs": [
    {
     "name": "stdout",
     "output_type": "stream",
     "text": [
      "Wall time: 2.25 s\n"
     ]
    }
   ],
   "source": [
    "%%time\n",
    "prc_lsm_50k=Bermudan_swaption_lsm(lockout,maturity,sim_rates_50k,strike,alpha)"
   ]
  },
  {
   "cell_type": "code",
   "execution_count": 237,
   "metadata": {},
   "outputs": [
    {
     "name": "stdout",
     "output_type": "stream",
     "text": [
      "European swaption pirce: 0.006957211172997507\n",
      "Bermudan swaption pirce: 0.007512767003647237\n",
      "Excercise Probability Table\n",
      "    Time_step  ex_prob_Euro  ex_prob_LSM\n",
      "0           2       0.70758      0.44388\n",
      "1           3       0.00000      0.06182\n",
      "2           4       0.00000      0.02778\n",
      "3           5       0.00000      0.01508\n",
      "4           6       0.00000      0.01052\n",
      "5           7       0.00000      0.00688\n",
      "6           8       0.00000      0.00520\n",
      "7           9       0.00000      0.00460\n",
      "8          10       0.00000      0.00418\n",
      "9          11       0.00000      0.00362\n",
      "10         12       0.00000      0.00374\n",
      "11         13       0.00000      0.00436\n",
      "12         14       0.00000      0.00464\n",
      "13         15       0.00000      0.00502\n",
      "14         16       0.00000      0.00668\n",
      "15         17       0.00000      0.00956\n",
      "16         18       0.00000      0.01664\n",
      "17         19       0.00000      0.01096\n"
     ]
    }
   ],
   "source": [
    "print_result(prc_lsm_50k)"
   ]
  },
  {
   "cell_type": "code",
   "execution_count": 238,
   "metadata": {},
   "outputs": [
    {
     "name": "stdout",
     "output_type": "stream",
     "text": [
      "Wall time: 5min 53s\n"
     ]
    }
   ],
   "source": [
    "%%time\n",
    "prc_nn_50k=Bermudan_swaption_nn(lockout,maturity,sim_rates_50k,strike,n_epochs,batch_size,learningrate)"
   ]
  },
  {
   "cell_type": "code",
   "execution_count": 239,
   "metadata": {},
   "outputs": [
    {
     "name": "stdout",
     "output_type": "stream",
     "text": [
      "European swaption pirce: 0.006957211172997507\n",
      "Bermudan swaption pirce: 0.0087132730802529\n",
      "Excercise Probability Table\n",
      "    Time_step  ex_prob_Euro  ex_prob_RLNN\n",
      "0           2       0.70758       0.48092\n",
      "1           3       0.00000       0.19310\n",
      "2           4       0.00000       0.05942\n",
      "3           5       0.00000       0.03360\n",
      "4           6       0.00000       0.01636\n",
      "5           7       0.00000       0.00454\n",
      "6           8       0.00000       0.00516\n",
      "7           9       0.00000       0.00368\n",
      "8          10       0.00000       0.00212\n",
      "9          11       0.00000       0.00242\n",
      "10         12       0.00000       0.00252\n",
      "11         13       0.00000       0.00200\n",
      "12         14       0.00000       0.00198\n",
      "13         15       0.00000       0.00326\n",
      "14         16       0.00000       0.00252\n",
      "15         17       0.00000       0.00334\n",
      "16         18       0.00000       0.00382\n",
      "17         19       0.00000       0.00542\n"
     ]
    }
   ],
   "source": [
    "print_result(prc_nn_50k)"
   ]
  },
  {
   "cell_type": "code",
   "execution_count": 240,
   "metadata": {},
   "outputs": [
    {
     "name": "stdout",
     "output_type": "stream",
     "text": [
      "Wall time: 47.4 s\n"
     ]
    }
   ],
   "source": [
    "%%time\n",
    "prc_xgb_50k=Bermudan_swaption_xgboost(lockout,maturity,sim_rates_50k,strike,seed)"
   ]
  },
  {
   "cell_type": "code",
   "execution_count": 241,
   "metadata": {},
   "outputs": [
    {
     "name": "stdout",
     "output_type": "stream",
     "text": [
      "European swaption pirce: 0.006957211172997507\n",
      "Bermudan swaption pirce: 0.007919573246027179\n",
      "Excercise Probability Table\n",
      "    Time_step  ex_prob_Euro  ex_prob_xgb\n",
      "0           2       0.70758      0.56274\n",
      "1           3       0.00000      0.08916\n",
      "2           4       0.00000      0.03468\n",
      "3           5       0.00000      0.01580\n",
      "4           6       0.00000      0.01048\n",
      "5           7       0.00000      0.00678\n",
      "6           8       0.00000      0.00462\n",
      "7           9       0.00000      0.00362\n",
      "8          10       0.00000      0.00326\n",
      "9          11       0.00000      0.00288\n",
      "10         12       0.00000      0.00278\n",
      "11         13       0.00000      0.00280\n",
      "12         14       0.00000      0.00344\n",
      "13         15       0.00000      0.00330\n",
      "14         16       0.00000      0.00372\n",
      "15         17       0.00000      0.00480\n",
      "16         18       0.00000      0.00578\n",
      "17         19       0.00000      0.00788\n"
     ]
    }
   ],
   "source": [
    "print_result(prc_xgb_50k)"
   ]
  },
  {
   "cell_type": "code",
   "execution_count": 242,
   "metadata": {},
   "outputs": [
    {
     "name": "stdout",
     "output_type": "stream",
     "text": [
      "Wall time: 1min 35s\n"
     ]
    }
   ],
   "source": [
    "%%time\n",
    "prc_xgb_100k=Bermudan_swaption_xgboost(lockout,maturity,sim_rates_100k,strike,seed)"
   ]
  },
  {
   "cell_type": "code",
   "execution_count": 243,
   "metadata": {},
   "outputs": [
    {
     "name": "stdout",
     "output_type": "stream",
     "text": [
      "European swaption pirce: 0.006951267551339664\n",
      "Bermudan swaption pirce: 0.0077585011993408105\n",
      "Excercise Probability Table\n",
      "    Time_step  ex_prob_Euro  ex_prob_xgb\n",
      "0           2       0.70762      0.58508\n",
      "1           3       0.00000      0.07407\n",
      "2           4       0.00000      0.02763\n",
      "3           5       0.00000      0.01395\n",
      "4           6       0.00000      0.00985\n",
      "5           7       0.00000      0.00620\n",
      "6           8       0.00000      0.00454\n",
      "7           9       0.00000      0.00348\n",
      "8          10       0.00000      0.00305\n",
      "9          11       0.00000      0.00254\n",
      "10         12       0.00000      0.00277\n",
      "11         13       0.00000      0.00291\n",
      "12         14       0.00000      0.00329\n",
      "13         15       0.00000      0.00332\n",
      "14         16       0.00000      0.00426\n",
      "15         17       0.00000      0.00457\n",
      "16         18       0.00000      0.00618\n",
      "17         19       0.00000      0.00818\n"
     ]
    }
   ],
   "source": [
    "print_result(prc_xgb_100k)"
   ]
  },
  {
   "cell_type": "code",
   "execution_count": 244,
   "metadata": {},
   "outputs": [
    {
     "name": "stdout",
     "output_type": "stream",
     "text": [
      "Wall time: 4.39 s\n"
     ]
    }
   ],
   "source": [
    "%%time\n",
    "prc_lsm_100k=Bermudan_swaption_lsm(lockout,maturity,sim_rates_100k,strike,alpha)"
   ]
  },
  {
   "cell_type": "code",
   "execution_count": 245,
   "metadata": {},
   "outputs": [
    {
     "name": "stdout",
     "output_type": "stream",
     "text": [
      "European swaption pirce: 0.006951267551339664\n",
      "Bermudan swaption pirce: 0.0075140211438522115\n",
      "Excercise Probability Table\n",
      "    Time_step  ex_prob_Euro  ex_prob_LSM\n",
      "0           2       0.70762      0.44322\n",
      "1           3       0.00000      0.06226\n",
      "2           4       0.00000      0.02828\n",
      "3           5       0.00000      0.01571\n",
      "4           6       0.00000      0.01034\n",
      "5           7       0.00000      0.00733\n",
      "6           8       0.00000      0.00581\n",
      "7           9       0.00000      0.00491\n",
      "8          10       0.00000      0.00370\n",
      "9          11       0.00000      0.00405\n",
      "10         12       0.00000      0.00407\n",
      "11         13       0.00000      0.00436\n",
      "12         14       0.00000      0.00515\n",
      "13         15       0.00000      0.00511\n",
      "14         16       0.00000      0.00648\n",
      "15         17       0.00000      0.00898\n",
      "16         18       0.00000      0.01666\n",
      "17         19       0.00000      0.01147\n"
     ]
    }
   ],
   "source": [
    "print_result(prc_lsm_100k)"
   ]
  },
  {
   "cell_type": "code",
   "execution_count": 246,
   "metadata": {},
   "outputs": [
    {
     "name": "stdout",
     "output_type": "stream",
     "text": [
      "Wall time: 12min 25s\n"
     ]
    }
   ],
   "source": [
    "%%time\n",
    "prc_nn_100k=Bermudan_swaption_nn(lockout,maturity,sim_rates_100k,strike,n_epochs,batch_size,learningrate)"
   ]
  },
  {
   "cell_type": "code",
   "execution_count": 247,
   "metadata": {},
   "outputs": [
    {
     "name": "stdout",
     "output_type": "stream",
     "text": [
      "European swaption pirce: 0.006951267551339664\n",
      "Bermudan swaption pirce: 0.008717494059582753\n",
      "Excercise Probability Table\n",
      "    Time_step  ex_prob_Euro  ex_prob_RLNN\n",
      "0           2       0.70762       0.48173\n",
      "1           3       0.00000       0.18496\n",
      "2           4       0.00000       0.07420\n",
      "3           5       0.00000       0.02908\n",
      "4           6       0.00000       0.01235\n",
      "5           7       0.00000       0.00750\n",
      "6           8       0.00000       0.00455\n",
      "7           9       0.00000       0.00344\n",
      "8          10       0.00000       0.00242\n",
      "9          11       0.00000       0.00230\n",
      "10         12       0.00000       0.00226\n",
      "11         13       0.00000       0.00233\n",
      "12         14       0.00000       0.00255\n",
      "13         15       0.00000       0.00284\n",
      "14         16       0.00000       0.00270\n",
      "15         17       0.00000       0.00313\n",
      "16         18       0.00000       0.00413\n",
      "17         19       0.00000       0.00520\n"
     ]
    }
   ],
   "source": [
    "print_result(prc_nn_100k)"
   ]
  },
  {
   "cell_type": "code",
   "execution_count": 248,
   "metadata": {},
   "outputs": [],
   "source": [
    "df=make_table(prc_lsm,prc_nn,prc_xgb)"
   ]
  },
  {
   "cell_type": "code",
   "execution_count": 249,
   "metadata": {},
   "outputs": [
    {
     "data": {
      "text/plain": [
       "0    0.007563\n",
       "1    0.008770\n",
       "2    0.009038\n",
       "Name:  Bermudan price, dtype: float64"
      ]
     },
     "execution_count": 249,
     "metadata": {},
     "output_type": "execute_result"
    }
   ],
   "source": [
    "df.iloc[:,2]"
   ]
  },
  {
   "cell_type": "code",
   "execution_count": 250,
   "metadata": {},
   "outputs": [],
   "source": [
    "df['Bermudan 10k']=make_table(prc_lsm_10k,prc_nn_10k,prc_xgb_10k).iloc[:,2]\n",
    "df['Bermudan 50k']=make_table(prc_lsm_50k,prc_nn_50k,prc_xgb_50k).iloc[:,2]\n",
    "df['Bermudan 100k']=make_table(prc_lsm_100k,prc_nn_100k,prc_xgb_100k).iloc[:,2]"
   ]
  },
  {
   "cell_type": "code",
   "execution_count": 251,
   "metadata": {},
   "outputs": [
    {
     "data": {
      "text/html": [
       "<div>\n",
       "<style scoped>\n",
       "    .dataframe tbody tr th:only-of-type {\n",
       "        vertical-align: middle;\n",
       "    }\n",
       "\n",
       "    .dataframe tbody tr th {\n",
       "        vertical-align: top;\n",
       "    }\n",
       "\n",
       "    .dataframe thead th {\n",
       "        text-align: right;\n",
       "    }\n",
       "</style>\n",
       "<table border=\"1\" class=\"dataframe\">\n",
       "  <thead>\n",
       "    <tr style=\"text-align: right;\">\n",
       "      <th></th>\n",
       "      <th>Algorithm</th>\n",
       "      <th>European price</th>\n",
       "      <th>Bermudan price</th>\n",
       "      <th>Bermudan 10k</th>\n",
       "      <th>Bermudan 50k</th>\n",
       "      <th>Bermudan 100k</th>\n",
       "    </tr>\n",
       "  </thead>\n",
       "  <tbody>\n",
       "    <tr>\n",
       "      <td>0</td>\n",
       "      <td>LSM</td>\n",
       "      <td>0.006939</td>\n",
       "      <td>0.007563</td>\n",
       "      <td>0.007548</td>\n",
       "      <td>0.007513</td>\n",
       "      <td>0.007514</td>\n",
       "    </tr>\n",
       "    <tr>\n",
       "      <td>1</td>\n",
       "      <td>NN</td>\n",
       "      <td>0.006939</td>\n",
       "      <td>0.008770</td>\n",
       "      <td>0.008725</td>\n",
       "      <td>0.008713</td>\n",
       "      <td>0.008717</td>\n",
       "    </tr>\n",
       "    <tr>\n",
       "      <td>2</td>\n",
       "      <td>XGBoost</td>\n",
       "      <td>0.006939</td>\n",
       "      <td>0.009038</td>\n",
       "      <td>0.008843</td>\n",
       "      <td>0.007920</td>\n",
       "      <td>0.007759</td>\n",
       "    </tr>\n",
       "  </tbody>\n",
       "</table>\n",
       "</div>"
      ],
      "text/plain": [
       "  Algorithm   European price   Bermudan price  Bermudan 10k  Bermudan 50k  \\\n",
       "0       LSM         0.006939         0.007563      0.007548      0.007513   \n",
       "1        NN         0.006939         0.008770      0.008725      0.008713   \n",
       "2   XGBoost         0.006939         0.009038      0.008843      0.007920   \n",
       "\n",
       "   Bermudan 100k  \n",
       "0       0.007514  \n",
       "1       0.008717  \n",
       "2       0.007759  "
      ]
     },
     "execution_count": 251,
     "metadata": {},
     "output_type": "execute_result"
    }
   ],
   "source": [
    "df"
   ]
  },
  {
   "cell_type": "code",
   "execution_count": 252,
   "metadata": {},
   "outputs": [
    {
     "data": {
      "text/html": [
       "<div>\n",
       "<style scoped>\n",
       "    .dataframe tbody tr th:only-of-type {\n",
       "        vertical-align: middle;\n",
       "    }\n",
       "\n",
       "    .dataframe tbody tr th {\n",
       "        vertical-align: top;\n",
       "    }\n",
       "\n",
       "    .dataframe thead th {\n",
       "        text-align: right;\n",
       "    }\n",
       "</style>\n",
       "<table border=\"1\" class=\"dataframe\">\n",
       "  <thead>\n",
       "    <tr style=\"text-align: right;\">\n",
       "      <th></th>\n",
       "      <th>0</th>\n",
       "      <th>1</th>\n",
       "      <th>2</th>\n",
       "    </tr>\n",
       "  </thead>\n",
       "  <tbody>\n",
       "    <tr>\n",
       "      <td>0</td>\n",
       "      <td>0.007563</td>\n",
       "      <td>0.008770</td>\n",
       "      <td>0.009038</td>\n",
       "    </tr>\n",
       "    <tr>\n",
       "      <td>1</td>\n",
       "      <td>0.007548</td>\n",
       "      <td>0.008725</td>\n",
       "      <td>0.008843</td>\n",
       "    </tr>\n",
       "    <tr>\n",
       "      <td>2</td>\n",
       "      <td>0.007513</td>\n",
       "      <td>0.008713</td>\n",
       "      <td>0.007920</td>\n",
       "    </tr>\n",
       "    <tr>\n",
       "      <td>3</td>\n",
       "      <td>0.007514</td>\n",
       "      <td>0.008717</td>\n",
       "      <td>0.007759</td>\n",
       "    </tr>\n",
       "  </tbody>\n",
       "</table>\n",
       "</div>"
      ],
      "text/plain": [
       "          0         1         2\n",
       "0  0.007563  0.008770  0.009038\n",
       "1  0.007548  0.008725  0.008843\n",
       "2  0.007513  0.008713  0.007920\n",
       "3  0.007514  0.008717  0.007759"
      ]
     },
     "execution_count": 252,
     "metadata": {},
     "output_type": "execute_result"
    }
   ],
   "source": [
    "output_table=pd.DataFrame(df.iloc[:,2:].to_numpy().T)\n",
    "output_table"
   ]
  },
  {
   "cell_type": "code",
   "execution_count": 253,
   "metadata": {},
   "outputs": [],
   "source": [
    "output_table.columns=df['Algorithm'].values\n",
    "output_table.index=np.array([5000,10000,50000,100000])"
   ]
  },
  {
   "cell_type": "code",
   "execution_count": 254,
   "metadata": {},
   "outputs": [
    {
     "data": {
      "text/html": [
       "<div>\n",
       "<style scoped>\n",
       "    .dataframe tbody tr th:only-of-type {\n",
       "        vertical-align: middle;\n",
       "    }\n",
       "\n",
       "    .dataframe tbody tr th {\n",
       "        vertical-align: top;\n",
       "    }\n",
       "\n",
       "    .dataframe thead th {\n",
       "        text-align: right;\n",
       "    }\n",
       "</style>\n",
       "<table border=\"1\" class=\"dataframe\">\n",
       "  <thead>\n",
       "    <tr style=\"text-align: right;\">\n",
       "      <th></th>\n",
       "      <th>LSM</th>\n",
       "      <th>NN</th>\n",
       "      <th>XGBoost</th>\n",
       "    </tr>\n",
       "  </thead>\n",
       "  <tbody>\n",
       "    <tr>\n",
       "      <td>5000</td>\n",
       "      <td>0.007563</td>\n",
       "      <td>0.008770</td>\n",
       "      <td>0.009038</td>\n",
       "    </tr>\n",
       "    <tr>\n",
       "      <td>10000</td>\n",
       "      <td>0.007548</td>\n",
       "      <td>0.008725</td>\n",
       "      <td>0.008843</td>\n",
       "    </tr>\n",
       "    <tr>\n",
       "      <td>50000</td>\n",
       "      <td>0.007513</td>\n",
       "      <td>0.008713</td>\n",
       "      <td>0.007920</td>\n",
       "    </tr>\n",
       "    <tr>\n",
       "      <td>100000</td>\n",
       "      <td>0.007514</td>\n",
       "      <td>0.008717</td>\n",
       "      <td>0.007759</td>\n",
       "    </tr>\n",
       "  </tbody>\n",
       "</table>\n",
       "</div>"
      ],
      "text/plain": [
       "             LSM        NN   XGBoost\n",
       "5000    0.007563  0.008770  0.009038\n",
       "10000   0.007548  0.008725  0.008843\n",
       "50000   0.007513  0.008713  0.007920\n",
       "100000  0.007514  0.008717  0.007759"
      ]
     },
     "execution_count": 254,
     "metadata": {},
     "output_type": "execute_result"
    }
   ],
   "source": [
    "output_table"
   ]
  },
  {
   "cell_type": "code",
   "execution_count": 255,
   "metadata": {},
   "outputs": [
    {
     "data": {
      "image/png": "[encoded data removed]",
      "text/plain": [
       "<Figure size 432x288 with 1 Axes>"
      ]
     },
     "metadata": {
      "needs_background": "light"
     },
     "output_type": "display_data"
    },
    {
     "data": {
      "image/png": "[encoded data removed]",
      "text/plain": [
       "<Figure size 432x288 with 1 Axes>"
      ]
     },
     "metadata": {
      "needs_background": "light"
     },
     "output_type": "display_data"
    },
    {
     "data": {
      "image/png": "[encoded data removed]",
      "text/plain": [
       "<Figure size 432x288 with 1 Axes>"
      ]
     },
     "metadata": {
      "needs_background": "light"
     },
     "output_type": "display_data"
    }
   ],
   "source": [
    "import matplotlib.pyplot as plt\n",
    "\n",
    "output_table.plot(kind='line',y='LSM',title='Price from LSM')\n",
    "plt.show()\n",
    "output_table.plot(kind='line',y='NN',title='Price from RLNN')\n",
    "plt.show()\n",
    "output_table.plot(kind='line',y='XGBoost',title='Price from XGBoost')\n",
    "plt.show()"
   ]
  },
  {
   "cell_type": "code",
   "execution_count": 256,
   "metadata": {},
   "outputs": [
    {
     "data": {
      "text/plain": [
       "<matplotlib.axes._subplots.AxesSubplot at 0x2a69c8a2288>"
      ]
     },
     "execution_count": 256,
     "metadata": {},
     "output_type": "execute_result"
    },
    {
     "data": {
      "image/png": "[encoded data removed]",
      "text/plain": [
       "<Figure size 432x288 with 1 Axes>"
      ]
     },
     "metadata": {
      "needs_background": "light"
     },
     "output_type": "display_data"
    }
   ],
   "source": [
    "ax=plt.gca()\n",
    "output_table.plot(kind='line',y='LSM',color='red',ax=ax)\n",
    "output_table.plot(kind='line',y='NN',color='blue',ax=ax)\n",
    "output_table.plot(kind='line',y='XGBoost',color='orange',ax=ax)"
   ]
  },
  {
   "cell_type": "markdown",
   "metadata": {},
   "source": [
    "#### NN will always generate bigger values than LSM and XGBoost do, also it converges faster than XGBoost, in order to see the number of paths that XGBoost nees to converge, we built another 200,000 paths  sim_rates and plot the results."
   ]
  },
  {
   "cell_type": "code",
   "execution_count": 257,
   "metadata": {},
   "outputs": [],
   "source": [
    "output_table.to_csv('output_008_1028.csv',index=False)"
   ]
  },
  {
   "cell_type": "code",
   "execution_count": 258,
   "metadata": {},
   "outputs": [],
   "source": [
    "sim_rates_200k=smm(DFT, corr, 200000, len(para),para)"
   ]
  },
  {
   "cell_type": "code",
   "execution_count": 259,
   "metadata": {},
   "outputs": [
    {
     "name": "stdout",
     "output_type": "stream",
     "text": [
      "Wall time: 3min 21s\n"
     ]
    }
   ],
   "source": [
    "%%time\n",
    "prc_xgb_200k=Bermudan_swaption_xgboost(lockout,maturity,sim_rates_200k,strike,seed)"
   ]
  },
  {
   "cell_type": "code",
   "execution_count": 260,
   "metadata": {},
   "outputs": [
    {
     "name": "stdout",
     "output_type": "stream",
     "text": [
      "European swaption pirce: 0.006941238984052226\n",
      "Bermudan swaption pirce: 0.0076629790206305965\n",
      "Excercise Probability Table\n",
      "    Time_step  ex_prob_Euro  ex_prob_xgb\n",
      "0           2      0.707445     0.596225\n",
      "1           3      0.000000     0.065720\n",
      "2           4      0.000000     0.027560\n",
      "3           5      0.000000     0.013035\n",
      "4           6      0.000000     0.008830\n",
      "5           7      0.000000     0.006445\n",
      "6           8      0.000000     0.004370\n",
      "7           9      0.000000     0.003400\n",
      "8          10      0.000000     0.002800\n",
      "9          11      0.000000     0.002720\n",
      "10         12      0.000000     0.002685\n",
      "11         13      0.000000     0.002765\n",
      "12         14      0.000000     0.003325\n",
      "13         15      0.000000     0.003355\n",
      "14         16      0.000000     0.003660\n",
      "15         17      0.000000     0.004815\n",
      "16         18      0.000000     0.005790\n",
      "17         19      0.000000     0.007890\n"
     ]
    }
   ],
   "source": [
    "print_result(prc_xgb_200k)"
   ]
  },
  {
   "cell_type": "code",
   "execution_count": 261,
   "metadata": {},
   "outputs": [],
   "source": [
    "xgb_series=np.append(output_table['XGBoost'].values,prc_xgb_200k[1])\n",
    "path_series=np.append(output_table.index,200000)"
   ]
  },
  {
   "cell_type": "code",
   "execution_count": 262,
   "metadata": {},
   "outputs": [
    {
     "data": {
      "text/plain": [
       "[<matplotlib.lines.Line2D at 0x2a69d0b7408>]"
      ]
     },
     "execution_count": 262,
     "metadata": {},
     "output_type": "execute_result"
    },
    {
     "data": {
      "image/png": "[encoded data removed]",
      "text/plain": [
       "<Figure size 432x288 with 1 Axes>"
      ]
     },
     "metadata": {
      "needs_background": "light"
     },
     "output_type": "display_data"
    }
   ],
   "source": [
    "plt.plot(path_series,xgb_series)"
   ]
  },
  {
   "cell_type": "markdown",
   "metadata": {},
   "source": [
    "####  XGBoost model seems to converge after 100,000 paths, though it's still decreasing."
   ]
  },
  {
   "cell_type": "code",
   "execution_count": null,
   "metadata": {},
   "outputs": [],
   "source": []
  }
 ],
 "metadata": {
  "kernelspec": {
   "display_name": "Python 3",
   "language": "python",
   "name": "python3"
  },
  "language_info": {
   "codemirror_mode": {
    "name": "ipython",
    "version": 3
   },
   "file_extension": ".py",
   "mimetype": "text/x-python",
   "name": "python",
   "nbconvert_exporter": "python",
   "pygments_lexer": "ipython3",
   "version": "3.7.4"
  }
 },
 "nbformat": 4,
 "nbformat_minor": 2
}
